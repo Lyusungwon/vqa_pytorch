{
 "cells": [
  {
   "cell_type": "code",
   "execution_count": 2,
   "metadata": {},
   "outputs": [],
   "source": [
    "import os\n",
    "from collections import defaultdict, Counter\n",
    "import numpy as np\n",
    "import json\n",
    "import re\n",
    "from tqdm import tqdm\n",
    "import pickle\n",
    "import torch\n",
    "from pathlib import Path\n",
    "import h5py\n",
    "from scipy.misc import imread, imresize\n",
    "from text_preprocessor import preprocess_text\n",
    "\n",
    "home = str(Path.home())\n",
    "data_dir = os.path.join(home, 'data')\n",
    "dataset = 'clevr'\n",
    "# mode = 'train'\n",
    "question_file1 = os.path.join(data_dir, dataset, 'questions', f'CLEVR_train_questions.json')\n",
    "question_file2 = os.path.join(data_dir, dataset, 'questions', f'CLEVR_val_questions.json')\n"
   ]
  },
  {
   "cell_type": "code",
   "execution_count": 3,
   "metadata": {},
   "outputs": [
    {
     "name": "stdout",
     "output_type": "stream",
     "text": [
      "11\n",
      "16\n",
      "20\n",
      "25\n",
      "27\n",
      "29\n",
      "31\n",
      "35\n",
      "39\n",
      "40\n",
      "42\n",
      "44\n"
     ]
    }
   ],
   "source": [
    "max_len = 0\n",
    "with open(question_file1) as f:\n",
    "    questions = json.load(f)['questions']\n",
    "for question in questions:\n",
    "    q_text = question['question'].lower()\n",
    "    q_text = re.sub(\";\", \" ;\", q_text)\n",
    "    q_words = re.sub(\"[^;A-Za-z ]+\", \"\", q_text).split(' ')\n",
    "    q_words = list(filter(None, q_words))\n",
    "    if len(q_words) > max_len:\n",
    "        max_len = len(q_words)\n",
    "        print(max_len)\n",
    "with open(question_file2) as f:\n",
    "    questions = json.load(f)['questions']\n",
    "for question in questions:\n",
    "    q_text = question['question'].lower()\n",
    "    q_text = re.sub(\";\", \" ;\", q_text)\n",
    "    q_words = re.sub(\"[^;A-Za-z ]+\", \"\", q_text).split(' ')\n",
    "    q_words = list(filter(None, q_words))\n",
    "    if len(q_words) > max_len:\n",
    "        max_len = len(q_words)\n",
    "        print(max_len)\n"
   ]
  }
 ],
 "metadata": {
  "kernelspec": {
   "display_name": "Python 3",
   "language": "python",
   "name": "python3"
  },
  "language_info": {
   "codemirror_mode": {
    "name": "ipython",
    "version": 3
   },
   "file_extension": ".py",
   "mimetype": "text/x-python",
   "name": "python",
   "nbconvert_exporter": "python",
   "pygments_lexer": "ipython3",
   "version": "3.6.8"
  }
 },
 "nbformat": 4,
 "nbformat_minor": 2
}
